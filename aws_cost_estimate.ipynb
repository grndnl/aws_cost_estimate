{
 "cells": [
  {
   "cell_type": "markdown",
   "source": [
    "# AWS Ground Truth Cost Calculator"
   ],
   "metadata": {
    "collapsed": false,
    "pycharm": {
     "name": "#%% md\n"
    }
   }
  },
  {
   "cell_type": "code",
   "execution_count": 1,
   "outputs": [],
   "source": [
    "items = 5000\n",
    "item_cost = 0.08\n",
    "\n",
    "labelers = 3\n",
    "labeler_cost = 0.036"
   ],
   "metadata": {
    "collapsed": false,
    "pycharm": {
     "name": "#%%\n"
    },
    "ExecuteTime": {
     "end_time": "2023-11-10T00:06:50.278216700Z",
     "start_time": "2023-11-10T00:06:50.263216700Z"
    }
   }
  },
  {
   "cell_type": "code",
   "execution_count": 2,
   "outputs": [
    {
     "name": "stdout",
     "output_type": "stream",
     "text": [
      "Total cost: $940.0\n"
     ]
    }
   ],
   "source": [
    "total_cost = items * item_cost + items * labelers * labeler_cost\n",
    "\n",
    "print('Total cost: $' + str(round(total_cost, 2)))"
   ],
   "metadata": {
    "collapsed": false,
    "ExecuteTime": {
     "end_time": "2023-11-10T00:06:51.669215100Z",
     "start_time": "2023-11-10T00:06:51.659216100Z"
    }
   }
  }
 ],
 "metadata": {
  "kernelspec": {
   "display_name": "Python 3",
   "language": "python",
   "name": "python3"
  },
  "language_info": {
   "codemirror_mode": {
    "name": "ipython",
    "version": 2
   },
   "file_extension": ".py",
   "mimetype": "text/x-python",
   "name": "python",
   "nbconvert_exporter": "python",
   "pygments_lexer": "ipython2",
   "version": "2.7.6"
  }
 },
 "nbformat": 4,
 "nbformat_minor": 0
}
